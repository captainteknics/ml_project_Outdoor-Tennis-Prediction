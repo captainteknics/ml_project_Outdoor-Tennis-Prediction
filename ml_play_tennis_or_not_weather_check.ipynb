# Part A: Tennis Play Prediction

# Importing necessary libraries
import pandas as pd
from sklearn.preprocessing import LabelEncoder
from sklearn.tree import DecisionTreeClassifier

# Creating the dataset
data = {
    'Temperature': ['Hot', 'Hot', 'Mild', 'Cool', 'Cool', 'Mild', 'Mild', 'Cool', 'Mild', 'Hot',
                    'Cool', 'Cool', 'Mild', 'Hot', 'Mild', 'Hot', 'Cool', 'Cool', 'Hot', 'Mild'],
    'Windy': [True, False, False, False, True, True, False, False, True, False, 
              True, False, True, True, False, True, False, True, False, True],
    'Humidity': ['High', 'High', 'High', 'Low', 'Low', 'Low', 'High', 'High', 'Low', 'Low',
                 'High', 'Low', 'Low', 'Low', 'Low', 'High', 'Low', 'Low', 'High', 'High'],
    'Play Tennis': ['No', 'No', 'Yes', 'Yes', 'Yes', 'No', 'Yes', 'No', 'Yes', 'No',
                    'Yes', 'Yes', 'Yes', 'No', 'Yes', 'No', 'Yes', 'No', 'Yes', 'Yes']
}

# Converting the dataset into a DataFrame
df = pd.DataFrame(data)
print("Initial Dataset:\n", df)

# Encoding categorical variables
le = LabelEncoder()
df['Temperature'] = le.fit_transform(df['Temperature'])
df['Windy'] = df['Windy'].astype(int)  # Convert boolean to int
df['Humidity'] = le.fit_transform(df['Humidity'])
df['Play Tennis'] = le.fit_transform(df['Play Tennis'])  # 'No' -> 0, 'Yes' -> 1

print("\nEncoded Dataset:\n", df)

# Features and labels
X = df[['Temperature', 'Windy', 'Humidity']]
y = df['Play Tennis']

# Training the Decision Tree classifier
clf = DecisionTreeClassifier()
clf.fit(X, y)

# Testing the model on new samples
new_samples = [[1, 1, 0], [2, 0, 1], [0, 0, 0]]  # Example new data: Temperature, Windy, Humidity
predictions = clf.predict(new_samples)
print("\nPredictions for new samples:", predictions)

# Interpret results: 0 = No (not playing), 1 = Yes (playing)
for i, prediction in enumerate(predictions):
    print("Sample {}: {} Tennis".format(i+1, 'Play' if prediction == 1 else "Don't Play"))
